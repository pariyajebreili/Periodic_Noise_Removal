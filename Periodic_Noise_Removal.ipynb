{
 "cells": [
  {
   "cell_type": "code",
   "execution_count": 1,
   "metadata": {},
   "outputs": [],
   "source": [
    "import pathlib\n",
    "from math import exp, pow\n",
    "from PIL import Image\n",
    "import numpy as np\n",
    "import matplotlib.pyplot\n",
    "import matplotlib\n",
    "from ctypes import *\n",
    "\n",
    "class IdealNotchFilter:\n",
    "    def __init__(self):\n",
    "        pass\n",
    "    \n",
    "    def apply_filter(self, fshift, points, d0, path):\n",
    "        m = fshift.shape[0]\n",
    "        n = fshift.shape[1]\n",
    "        for u in range(m):\n",
    "            for v in range(n):\n",
    "                for d in range(len(points)):\n",
    "                    u0 = points[d][0]\n",
    "                    v0 = points[d][1]\n",
    "                    u0, v0 = v0, u0\n",
    "                    d1 = pow(pow(u - u0, 2) + pow(v - v0, 2), 1)\n",
    "                    d2 = pow(pow(u + u0, 2) + pow(v + v0, 2), 1)\n",
    "                    if d1 <= d0 or d2 <= d0:\n",
    "                        fshift[u][v] *= 0.0\n",
    "        f_ishift = np.fft.ifftshift(fshift)\n",
    "        img_back = np.fft.ifft2(f_ishift)\n",
    "        img_back = np.abs(img_back)\n",
    "        matplotlib.image.imsave(path, img_back, cmap = \"gray\")\n",
    "        return\n",
    "\n",
    "class ButterworthNotchFilter:\n",
    "    def __init__(self):\n",
    "        pass\n",
    "    \n",
    "    def apply_filter(self, fshift, points, d0, path, order = 1):\n",
    "        m = fshift.shape[0]\n",
    "        n = fshift.shape[1]\n",
    "        for u in range(m):\n",
    "            for v in range(n):\n",
    "                for d in range(len(points)):\n",
    "                    u0 = points[d][0]\n",
    "                    v0 = points[d][1]\n",
    "                    u0, v0 = v0, u0\n",
    "                    d1 = pow(pow(u - u0, 2) + pow(v - v0, 2), 0.5)\n",
    "                    d2 = pow(pow(u + u0, 2) + pow(v + v0, 2), 0.5)\n",
    "                    fshift[u][v] *= (1.0 / (1 + pow((d0 * d0) / (d1 * d2), order))) \n",
    "                    \n",
    "        f_ishift = np.fft.ifftshift(fshift)\n",
    "        img_back = np.fft.ifft2(f_ishift)\n",
    "        img_back = np.abs(img_back)\n",
    "        matplotlib.image.imsave(path, img_back, cmap = \"gray\")\n",
    "        return\n",
    "    \n",
    "class GaussianNotchFilter:\n",
    "    def __init__(self):\n",
    "        pass\n",
    "    \n",
    "    def apply_filter(self, fshift, points, d0, path):\n",
    "        m = fshift.shape[0]\n",
    "        n = fshift.shape[1]\n",
    "        for u in range(m):\n",
    "            for v in range(n):\n",
    "                for d in range(len(points)):\n",
    "                    u0 = points[d][0]\n",
    "                    v0 = points[d][1]\n",
    "                    u0, v0 = v0, u0\n",
    "                    d1 = pow(pow(u - u0, 2) + pow(v - v0, 2), 0.5)\n",
    "                    d2 = pow(pow(u + u0, 2) + pow(v + v0, 2), 0.5)\n",
    "                    fshift[u][v] *= (1 - exp(-0.5 * (d1 * d2 / pow(d0, 2))))\n",
    "\n",
    "        f_ishift = np.fft.ifftshift(fshift)\n",
    "        img_back = np.fft.ifft2(f_ishift)\n",
    "        img_back = np.abs(img_back)\n",
    "        matplotlib.image.imsave(path, img_back, cmap = \"gray\")\n",
    "        return\n"
   ]
  },
  {
   "cell_type": "code",
   "execution_count": 2,
   "metadata": {},
   "outputs": [],
   "source": [
    "def get_fshift_and_save_dft():\n",
    "    img = Image.open(pathlib.Path(\"images\\\\duck.jpg\"))\n",
    "    img = np.asarray(img)\n",
    "    f = np.fft.fft2(img)\n",
    "    fshift = np.fft.fftshift(f)\n",
    "    dft = 20 * np.log(np.abs(fshift))\n",
    "    matplotlib.image.imsave(pathlib.Path(\"images\\\\dft_duck.png\"), dft, cmap = \"gray\")\n",
    "    return fshift, dft"
   ]
  },
  {
   "cell_type": "code",
   "execution_count": 3,
   "metadata": {},
   "outputs": [],
   "source": [
    "fshift, dft = get_fshift_and_save_dft()\n",
    "points = [  [239.96445273,255.77032735],\n",
    "            [250.77754671,250.36378036],\n",
    "            [259.96867659,260.63621964],\n",
    "            [271.32242527,255.22967265]  ] # Duck photo\n",
    "IdealNotchFilter().apply_filter(fshift, points, float(3), pathlib.Path(\"images\\\\ideal_notch_filtered_duck_img.png\"))\n",
    "        \n",
    "ButterworthNotchFilter().apply_filter(fshift, points, float(3), pathlib.Path(\"images\\\\butterworth_notch_filtered_duck_img.png\"), order = 1)\n",
    "         \n",
    "GaussianNotchFilter().apply_filter(fshift, points, float(3), pathlib.Path(\"images\\\\gaussian_notch_filtered_duck_img.png.png\"))\n",
    "            "
   ]
  },
  {
   "cell_type": "code",
   "execution_count": 16,
   "metadata": {},
   "outputs": [],
   "source": [
    "\n"
   ]
  },
  {
   "cell_type": "code",
   "execution_count": 17,
   "metadata": {},
   "outputs": [],
   "source": []
  },
  {
   "cell_type": "code",
   "execution_count": null,
   "metadata": {},
   "outputs": [],
   "source": []
  },
  {
   "cell_type": "code",
   "execution_count": null,
   "metadata": {},
   "outputs": [],
   "source": []
  },
  {
   "cell_type": "code",
   "execution_count": null,
   "metadata": {},
   "outputs": [],
   "source": []
  },
  {
   "cell_type": "code",
   "execution_count": null,
   "metadata": {},
   "outputs": [],
   "source": []
  }
 ],
 "metadata": {
  "kernelspec": {
   "display_name": "Python 3",
   "language": "python",
   "name": "python3"
  },
  "language_info": {
   "codemirror_mode": {
    "name": "ipython",
    "version": 3
   },
   "file_extension": ".py",
   "mimetype": "text/x-python",
   "name": "python",
   "nbconvert_exporter": "python",
   "pygments_lexer": "ipython3",
   "version": "3.12.3"
  },
  "orig_nbformat": 4
 },
 "nbformat": 4,
 "nbformat_minor": 2
}
